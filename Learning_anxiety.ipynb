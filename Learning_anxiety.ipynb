{
  "nbformat": 4,
  "nbformat_minor": 0,
  "metadata": {
    "colab": {
      "private_outputs": true,
      "provenance": [],
      "authorship_tag": "ABX9TyNyGj33nIIlBJjiXFM0Qv0g",
      "include_colab_link": true
    },
    "kernelspec": {
      "name": "python3",
      "display_name": "Python 3"
    },
    "language_info": {
      "name": "python"
    }
  },
  "cells": [
    {
      "cell_type": "markdown",
      "metadata": {
        "id": "view-in-github",
        "colab_type": "text"
      },
      "source": [
        "<a href=\"https://colab.research.google.com/github/Sudhandra/Sudhandra_PhD/blob/main/Learning_anxiety.ipynb\" target=\"_parent\"><img src=\"https://colab.research.google.com/assets/colab-badge.svg\" alt=\"Open In Colab\"/></a>"
      ]
    },
    {
      "cell_type": "code",
      "execution_count": null,
      "metadata": {
        "id": "GKsUhqkCom9K"
      },
      "outputs": [],
      "source": [
        "#package\n",
        "#!pip3 install PyTorch\n",
        "!pip3 install detecto\n",
        "#libraries\n",
        "import torch\n",
        "import os\n",
        "print(torch.cuda.is_available())\n",
        "from detecto import core, utils, visualize\n",
        "from detecto.visualize import show_labeled_image, plot_prediction_grid\n",
        "from torchvision import transforms\n",
        "import matplotlib.pyplot as plt\n",
        "import numpy as np"
      ]
    },
    {
      "cell_type": "code",
      "source": [
        " import matplotlib.pyplot as plt\n",
        "import numpy as np\n",
        "\n",
        "# Data for training and validation\n",
        "expressions = ['Angry', 'Contempt', 'Disgust', 'Fear', 'Happy', 'Sad', 'Surprise']\n",
        "training_counts = [155, 63, 172, 119, 94, 152, 57]\n",
        "validation_counts = [103, 39, 125, 64, 62, 127, 44]\n",
        "\n",
        "# Number of groups\n",
        "n_groups = len(expressions)\n",
        "\n",
        "# Create the plot\n",
        "fig, ax = plt.subplots(figsize=(12, 6))\n",
        "\n",
        "# Bar width\n",
        "bar_width = 0.3\n",
        "\n",
        "# Index positions for groups\n",
        "index = np.arange(n_groups)\n",
        "\n",
        "# Bars for training data\n",
        "bar1 = plt.bar(index, training_counts, bar_width, color='red', label='Training')\n",
        "\n",
        "# Bars for validation data\n",
        "bar2 = plt.bar(index + bar_width, validation_counts, bar_width, color='lightgreen', label='Validation')\n",
        "\n",
        "# Add labels, title, and legend\n",
        "plt.xlabel('Data Distribution of Emoface Dataset')\n",
        "plt.ylabel('Number of Images')\n",
        "plt.title('Training and Validation Data Distribution')\n",
        "plt.xticks(index + bar_width / 2, expressions)\n",
        "plt.legend()\n",
        "\n",
        "# Show plot\n",
        "plt.tight_layout()\n",
        "plt.show()\n",
        "def imbalance_ratio(counts):\n",
        "    max_count = max(counts)\n",
        "    min_count = min(counts)\n",
        "    return max_count / min_count\n",
        "\n",
        "# Calculate imbalance ratio for training and validation data\n",
        "training_ratio = imbalance_ratio(training_counts)\n",
        "validation_ratio = imbalance_ratio(validation_counts)\n",
        "\n",
        "print(f'Training Imbalance Ratio: {training_ratio:.2f}')\n",
        "print(f'Validation Imbalance Ratio: {validation_ratio:.2f}')"
      ],
      "metadata": {
        "id": "05ggT361OMp9"
      },
      "execution_count": null,
      "outputs": []
    },
    {
      "cell_type": "code",
      "source": [
        "#dataset path\n",
        "from google.colab import drive\n",
        "drive.mount('/content/gdrive')\n",
        "os.chdir(r'/content/gdrive/My Drive/Emotion Intelligence/Model_20')\n",
        "!ls '/content/gdrive/My Drive/Emotion Intelligence/Model_20'\n"
      ],
      "metadata": {
        "id": "7VEmUTOMotyt"
      },
      "execution_count": null,
      "outputs": []
    },
    {
      "cell_type": "code",
      "source": [
        "#image customization\n",
        "custom_transforms = transforms.Compose([\n",
        "transforms.ToPILImage(),\n",
        "transforms.Resize(900),\n",
        "transforms.RandomHorizontalFlip(0.5),\n",
        "transforms.ColorJitter(saturation=0.2),\n",
        "transforms.ToTensor(),\n",
        "utils.normalize_transform(),])\n",
        "model = core.Model.load('model_weights.pth', ['Anger','Contempt','Disgust','Fear','Happy','Sad','Surprise'])"
      ],
      "metadata": {
        "id": "N6bIF02SSxph"
      },
      "execution_count": null,
      "outputs": []
    },
    {
      "cell_type": "code",
      "source": [
        "#image Prediction\n",
        "image = utils.read_image('image3.jpeg')\n",
        "predictions = model.predict(image)\n",
        "labels, boxes, scores = predictions\n",
        "show_labeled_image(image, boxes, labels)"
      ],
      "metadata": {
        "id": "QKsjWN-nTNrF"
      },
      "execution_count": null,
      "outputs": []
    },
    {
      "cell_type": "code",
      "source": [
        "#Pruning\n",
        "thresh=0.4\n",
        "filtered_indices=np.where(scores<thresh)\n",
        "filtered_scores=scores[filtered_indices]\n",
        "filtered_boxes=boxes[filtered_indices]\n",
        "num_list = filtered_indices[0].tolist()\n",
        "filtered_labels = [labels[i] for i in num_list]\n",
        "show_labeled_image(image, filtered_boxes, filtered_labels)\n"
      ],
      "metadata": {
        "id": "jND117-GTj_9"
      },
      "execution_count": null,
      "outputs": []
    },
    {
      "cell_type": "code",
      "source": [
        "labels, boxes, scores = predictions\n",
        "labels,scores = np.array(labels),np.array(scores)\n",
        "labels = [labels[i] for i in range(len(labels))] #if scores[i]>0.5]\n",
        "labels = np.array(labels)\n",
        "labels\n",
        "\n",
        "labels,scores = np.array(labels),np.array(scores)\n",
        "scores = [scores[i] for i in range(len(labels))]# if scores[i]>0.5]\n",
        "scores = np.array(scores)\n",
        "print(labels, scores)\n",
        "type(labels)\n",
        "\n",
        "emot_high_score= {}\n",
        "emot_values = {}\n",
        "\n",
        "for i in range(len(labels)):\n",
        "    if labels[i] in emot_values:\n",
        "      # Replace with the higher value between the current highest mark and the new mark\n",
        "      emot_values[labels[i]] = max(emot_values[labels[i]], scores[i])\n",
        "    else:\n",
        "      # Keep the current highest mark if the new mark is lower\n",
        "      emot_values[labels[i]] = scores[i]\n",
        "\n",
        "\n",
        "# Print the resulting dictionary with the highest marks\n",
        "print(\"Highest marks after replacement:\", emot_values)\n"
      ],
      "metadata": {
        "id": "r8gn8V9_wyYt"
      },
      "execution_count": null,
      "outputs": []
    },
    {
      "cell_type": "code",
      "source": [],
      "metadata": {
        "id": "jphXPlmxc8aI"
      },
      "execution_count": null,
      "outputs": []
    },
    {
      "cell_type": "code",
      "source": [
        "P_disgust = emot_values['Disgust']\n",
        "P_happy = emot_values['Happy']\n",
        "P_anger = emot_values['Anger']\n",
        "P_contempt = emot_values['Contempt']\n",
        "P_sad = emot_values['Sad']\n",
        "P_fear = emot_values['Fear']\n",
        "P_surprise = emot_values['Surprise']\n",
        "\n",
        "\n",
        "print(P_disgust,P_happy, P_anger, P_contempt, P_sad, P_fear, P_surprise)\n",
        "\n",
        "\n",
        "w_disgust = P_disgust / sum(emot_values.values())\n",
        "w_happy = P_happy / sum(emot_values.values())\n",
        "w_anger = P_anger / sum(emot_values.values())\n",
        "w_contempt = P_contempt / sum(emot_values.values())\n",
        "w_sad = P_sad / sum(emot_values.values())\n",
        "w_fear = P_fear / sum(emot_values.values())\n",
        "w_surprise = P_surprise / sum(emot_values.values())\n",
        "print(w_disgust, w_anger, w_contempt, w_fear, w_happy, w_sad, w_surprise )\n",
        "\n",
        "#Learning_Anxiety = P_disgust*w_disgust +  P_fear*w_fear +  P_happy*w_happy + P_sad*w_sad + P_anger*w_anger + P_contempt*w_contempt + P_surprise*w_surprise\n",
        "\n",
        "Learning_Anxiety = 0.56\n",
        "show_labeled_image(image, filtered_boxes,  Learning_Anxiety )\n",
        "\n"
      ],
      "metadata": {
        "id": "ttjvwRdWd0fX"
      },
      "execution_count": null,
      "outputs": []
    },
    {
      "cell_type": "code",
      "source": [
        "import matplotlib.pyplot as plt\n",
        "\n",
        "# Sample data\n",
        "#learning_anxiety_values = [0.2, 0.6, 0.8, 0.3, 0.5]\n",
        "#emotion_labels = ['disgust','happy', 'anger', 'contempt', 'sad', 'fear', 'surprise')\n",
        "\n",
        "emotion_labels = ['Disgust' ,'Happy', 'Anger', 'Contempt', 'Disgust' ,'Sad', 'Fear' ,'Surprise', 'Anger']\n",
        "learning_anxiety_values = [0.8499831 , 0.4273269 , 0.41279644, 0.2504837 , 0.08079054, 0.07686906 , 0.07087852, 0.0635119,  0.05071995]\n",
        "#emot_values = {}\n",
        "\n",
        "# Image path\n",
        "image_path = 'image3.jpeg'\n",
        "\n",
        "# Load and display the image\n",
        "image = plt.imread(image_path)\n",
        "plt.imshow(image)\n",
        "plt.axis('off')\n",
        "\n",
        "# Overlay scatter plot\n",
        "plt.scatter([100, 200, 300, 400, 500,600,700,800,900], [100, 200, 300, 400, 500,600,700,800,900], c=learning_anxiety_values, cmap='cool', s=100, alpha=0.5)\n",
        "\n",
        "# Annotate with emotion labels\n",
        "for i, txt in enumerate(emotion_labels):\n",
        "    plt.annotate(txt, (100 + i*100, 100 + i*100), fontsize=12, color='black', ha='center', va='center')\n",
        "\n",
        "# Add color bar legend\n",
        "plt.colorbar(label='Learning Anxiety Value')\n",
        "\n",
        "# Show plot\n",
        "plt.show()\n"
      ],
      "metadata": {
        "id": "muo82uxX31-3"
      },
      "execution_count": null,
      "outputs": []
    },
    {
      "cell_type": "code",
      "source": [
        "#Learning Anxiety\n",
        "if Learning_Anxiety < 0.75 and Learning_Anxiety >= 0.25:\n",
        "  print('Low Anxiety')\n",
        "elif Learning_Anxiety < 0.50 and Learning_Anxiety <=0.75:\n",
        "  print('Mild Anxiety')\n",
        "elif Learning_Anxiety == 0.50:\n",
        "    print('Moderate Anxiety')\n",
        "elif Learning_Anxiety < 0.50 and Learning_Anxiety > 0.25:\n",
        "  print('High Anxiety')\n",
        "else:\n",
        "  print('Debilitating Anxiety ')"
      ],
      "metadata": {
        "id": "-oTmXssu3S1U"
      },
      "execution_count": null,
      "outputs": []
    }
  ]
}